{
 "cells": [
  {
   "cell_type": "code",
   "execution_count": 1,
   "metadata": {},
   "outputs": [],
   "source": [
    "#Market Segmentation \n",
    "#Goal segment the customer data of a retail shop based on\n",
    "#their satisfaction and brand loyalty\n",
    "#Satisfaction was taken from a 1-10 customer survey\n",
    "#Brand loyalty was based on the number of customer purchases\n",
    "#made over the course of a year."
   ]
  },
  {
   "cell_type": "code",
   "execution_count": 2,
   "metadata": {},
   "outputs": [],
   "source": [
    "#Import Libraries\n",
    "import numpy as np \n",
    "import pandas as pd \n",
    "import matplotlib.pyplot as plt \n",
    "import seaborn as sns \n",
    "sns.set()\n",
    "from sklearn.cluster import KMeans "
   ]
  },
  {
   "cell_type": "code",
   "execution_count": null,
   "metadata": {},
   "outputs": [],
   "source": [
    "#Load the Data\n",
    "data = pd.read_csv('MS_Example.csv')\n",
    "print(data)"
   ]
  },
  {
   "cell_type": "code",
   "execution_count": null,
   "metadata": {},
   "outputs": [],
   "source": [
    "#Plotting the Data\n",
    "plt.scatter(data['Satisfaction'], data['Loyalty'])\n",
    "plt.xlabel('Satisfaction')\n",
    "plt.ylabel('Loyalty')"
   ]
  },
  {
   "cell_type": "code",
   "execution_count": null,
   "metadata": {},
   "outputs": [],
   "source": [
    "#Checkpoint\n",
    "x= data.copy()"
   ]
  },
  {
   "cell_type": "code",
   "execution_count": null,
   "metadata": {},
   "outputs": [],
   "source": [
    "#Standardize the Variables\n",
    "#The values of the Satisfaction input are not standardized\n",
    "#we need to fix it so Loyalty and Satisfaction have equal weight \n",
    "#for our clusters\n",
    "from sklearn import preprocessing\n",
    "\n",
    "x_scaled = preprocessing.scale(x)\n",
    "\n",
    "print(x_scaled)"
   ]
  },
  {
   "cell_type": "code",
   "execution_count": null,
   "metadata": {},
   "outputs": [],
   "source": [
    "#Finding the Right Number of Clusters Using the Elbow Method\n",
    "\n",
    "wcss=[]\n",
    "\n",
    "for i in range(1,10):\n",
    "    \n",
    "    kmeans = KMeans(i)\n",
    "    kmeans.fit(x_scaled)\n",
    "    wcss.append(kmeans.inertia_)\n",
    "print(wcss)\n"
   ]
  },
  {
   "cell_type": "code",
   "execution_count": null,
   "metadata": {},
   "outputs": [],
   "source": [
    "# Plot the number of clusters vs WCSS\n",
    "plt.plot(range(1,10), wcss)\n",
    "plt.xlabel('Number of Clusters')\n",
    "plt.ylabel('WCSS')\n",
    "#Now given the elbow, we should decide how many clusters(2,3,4, or 5)"
   ]
  },
  {
   "cell_type": "code",
   "execution_count": null,
   "metadata": {},
   "outputs": [],
   "source": [
    "#Exploring the Clusters\n",
    "kmeans_new = KMeans(4)\n",
    "kmeans_new.fit(x_scaled)\n",
    "clusters_new= x.copy()\n",
    "clusters_new['cluster_pred'] = kmeans_new.fit_predict(x_scaled)\n",
    "print(display(clusters_new))\n",
    "\n",
    "#so in this new table, the data contains the original values\n",
    "#but has the predictions based on the standardized values\n",
    "#we will plot the data without standardizing the axis, but the\n",
    "#solution will be the standardized one"
   ]
  },
  {
   "cell_type": "code",
   "execution_count": null,
   "metadata": {},
   "outputs": [],
   "source": [
    "#Plotting the Clusters\n",
    "plt.scatter(clusters_new['Satisfaction'], clusters_new['Loyalty'], c=clusters_new['cluster_pred'], cmap='rainbow')\n",
    "plt.xlabel('Satisfaction')\n",
    "plt.ylabel('Loyalty')"
   ]
  },
  {
   "cell_type": "code",
   "execution_count": null,
   "metadata": {},
   "outputs": [],
   "source": [
    "#Interpreting the results:\n",
    "# From the plot of the graph, we have found the best fit of four customer types\n",
    "# that explains their satisfaction and likeliness to purchase often. They are:\n",
    "# Alienated: Located in the lower left quadrant with Low Satisfaction/Low Brand Loyalty\n",
    "# Supporters: Located in the Upper Left Quadrant, frequent the merchant often but have middling to Low Satisfaction\n",
    "#Fans: The Upper Right quadrant are both loyal and deeply satisfied with the brand\n",
    "#Roamers: Lower right quadrant, where they are satisfied with the service but not so interested in buying often"
   ]
  },
  {
   "cell_type": "code",
   "execution_count": null,
   "metadata": {},
   "outputs": [],
   "source": [
    "#What's Next?\n",
    "#Based on this information, it would be important to gather more data \n",
    "#from customers to see where they fall on they fall on the graph and what would\n",
    "#make them feel happier with the service enough to return shopping again."
   ]
  }
 ],
 "metadata": {
  "kernelspec": {
   "display_name": "Python 3",
   "language": "python",
   "name": "python3"
  },
  "language_info": {
   "codemirror_mode": {
    "name": "ipython",
    "version": 3
   },
   "file_extension": ".py",
   "mimetype": "text/x-python",
   "name": "python",
   "nbconvert_exporter": "python",
   "pygments_lexer": "ipython3",
   "version": "3.7.4"
  }
 },
 "nbformat": 4,
 "nbformat_minor": 2
}
